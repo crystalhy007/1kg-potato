{
 "cells": [
  {
   "cell_type": "code",
   "execution_count": null,
   "id": "1e4d2c78",
   "metadata": {},
   "outputs": [],
   "source": [
    "import pandas as pd\n",
    "import numpy as np\n",
    "from datetime import date"
   ]
  },
  {
   "cell_type": "code",
   "execution_count": null,
   "id": "25e1b16c",
   "metadata": {},
   "outputs": [],
   "source": [
    "df = pd.read_csv('OKR_Data.csv')"
   ]
  },
  {
   "cell_type": "code",
   "execution_count": null,
   "id": "2f83e634",
   "metadata": {},
   "outputs": [],
   "source": [
    "df.columns"
   ]
  },
  {
   "cell_type": "markdown",
   "id": "67d4fc51",
   "metadata": {},
   "source": [
    "# Data Clean"
   ]
  },
  {
   "cell_type": "code",
   "execution_count": null,
   "id": "930b3ea2",
   "metadata": {},
   "outputs": [],
   "source": [
    "df.columns = ['ID', 'NAME','TAG','TEAM','CREATOR','OWNER','PERIOD','START_DATE','END_DATE','DESCRIPTION','ALIGNMENT','METRICS','Target','OBJECTIVE_TYPE','LAST_CHECKIN','PROGRESS','STATUS','LAST_CHECKIN_NOTES','SCORE']\n",
    "df['PROGRESS'] = df['PROGRESS']/100\n",
    "df['SCORE'].fillna('0',inplace=True)"
   ]
  },
  {
   "cell_type": "code",
   "execution_count": null,
   "id": "8744530c",
   "metadata": {},
   "outputs": [],
   "source": [
    "#Clean up hyperlinked id (string)\n",
    "df['ID'] = (df['ID'].str.split(',\"',expand=True)[1].str.replace('\")','')).astype(int)\n",
    "df['ID']"
   ]
  },
  {
   "cell_type": "code",
   "execution_count": null,
   "id": "30c8e406",
   "metadata": {},
   "outputs": [],
   "source": [
    "#Clean up owner from last name, first name, last name, first name...) \n",
    "#to (first name last name, first name last name...). \n",
    "#Order doesn't matter\n",
    "df['OWNER'].head(30)"
   ]
  },
  {
   "cell_type": "code",
   "execution_count": null,
   "id": "8cf78010",
   "metadata": {},
   "outputs": [],
   "source": [
    "def name_clean(names):\n",
    "    \n",
    "    names = names.split(', ')[::-1]\n",
    "    \n",
    "    for n in range(1,len(names[1::2])):\n",
    "        names[2*n-1] = names[1::2][n-1] + ','\n",
    "        \n",
    "    return ' '.join(names)"
   ]
  },
  {
   "cell_type": "code",
   "execution_count": null,
   "id": "5d8a6c13",
   "metadata": {},
   "outputs": [],
   "source": [
    "df['OWNER'] = df['OWNER'].apply(name_clean)\n",
    "df['OWNER']"
   ]
  },
  {
   "cell_type": "markdown",
   "id": "350ce3c5",
   "metadata": {},
   "source": [
    "name_arr = []\n",
    "for x in lines:\n",
    "    name = \"\"\n",
    "    blocks = x.split(\",\")\n",
    "    for i, k in zip(blocks[0::2], blocks[1::2]):\n",
    "        name = name + \"{} {},\".format(i,k)\n",
    "    \n",
    "    name_arr.append(name[:-1])\n",
    "              \n",
    "df_owner = pd.DataFrame({\n",
    "'owner': name_arr\n",
    "})\n",
    "\n",
    "print(df_owner)"
   ]
  },
  {
   "cell_type": "code",
   "execution_count": null,
   "id": "3cdc2421",
   "metadata": {},
   "outputs": [],
   "source": [
    "##Clean the text format alignment and extract alignment id(s)\n",
    "align = df['ALIGNMENT'].str.split('Id:',expand = True)\n",
    "align"
   ]
  },
  {
   "cell_type": "code",
   "execution_count": null,
   "id": "cbefd5e3",
   "metadata": {},
   "outputs": [],
   "source": [
    "align = align.replace(np.nan,None)"
   ]
  },
  {
   "cell_type": "code",
   "execution_count": null,
   "id": "1d481aff",
   "metadata": {},
   "outputs": [],
   "source": [
    "align.drop(0,axis=1,inplace=True)\n",
    "align.columns=['a1','a2','a3']"
   ]
  },
  {
   "cell_type": "code",
   "execution_count": null,
   "id": "6c10105e",
   "metadata": {},
   "outputs": [],
   "source": [
    "align[['a1','a2','a3']] = align[['a1','a2','a3']].apply(lambda x: x.str.split(')').str[0])"
   ]
  },
  {
   "cell_type": "code",
   "execution_count": null,
   "id": "8f0aaeae",
   "metadata": {},
   "outputs": [],
   "source": [
    "align"
   ]
  },
  {
   "cell_type": "code",
   "execution_count": null,
   "id": "b51c4149",
   "metadata": {},
   "outputs": [],
   "source": [
    "#add cleaned alignment id back to df\n",
    "df['ALIGN_ID'] = align.apply(lambda x: np.nan if x.isnull().all() else ','.join(x.dropna()), axis=1)\n",
    "df['ALIGN_ID'] = df['ALIGN_ID'].str.split(',')"
   ]
  },
  {
   "cell_type": "code",
   "execution_count": null,
   "id": "c92234e0",
   "metadata": {},
   "outputs": [],
   "source": [
    "#separate as new row\n",
    "df = df.explode('ALIGN_ID')"
   ]
  },
  {
   "cell_type": "code",
   "execution_count": null,
   "id": "a847d569",
   "metadata": {},
   "outputs": [],
   "source": [
    "#Convert to int for joins\n",
    "df['ALIGN_ID'] = df['ALIGN_ID'].fillna(0).astype(int)"
   ]
  },
  {
   "cell_type": "markdown",
   "id": "614dce43",
   "metadata": {},
   "source": [
    "# Annual OKR"
   ]
  },
  {
   "cell_type": "code",
   "execution_count": null,
   "id": "853f7f10",
   "metadata": {},
   "outputs": [],
   "source": [
    "## Tech Annual OKR\n",
    "aokr = df[(df['TEAM'] == 'Paramount Global') & (df['PERIOD'].str.contains('Annual'))]\n",
    "aokr"
   ]
  },
  {
   "cell_type": "code",
   "execution_count": null,
   "id": "11ccbeb2",
   "metadata": {},
   "outputs": [],
   "source": [
    "df_annual = aokr.merge(aokr,left_on='ALIGN_ID',right_on = 'ID') ##!!annual key results + annual objectives\n",
    "df_annual"
   ]
  },
  {
   "cell_type": "code",
   "execution_count": null,
   "id": "4f9c7f6a",
   "metadata": {},
   "outputs": [],
   "source": [
    "df_annual.columns #x-->kr, y-->o"
   ]
  },
  {
   "cell_type": "code",
   "execution_count": null,
   "id": "f3d4d5b8",
   "metadata": {},
   "outputs": [],
   "source": [
    "df_annual = df_annual.drop(['OBJECTIVE_TYPE_x','OBJECTIVE_TYPE_y','ALIGN_ID_y','ALIGNMENT_y'],axis=1)"
   ]
  },
  {
   "cell_type": "code",
   "execution_count": null,
   "id": "9f7a5ddb",
   "metadata": {},
   "outputs": [],
   "source": [
    "df_annual.columns = ['AKR_ID', 'AKR_NAME', 'AKR_TAG', 'AKR_TEAM', 'AKR_CREATOR','AKR_OWNER', 'AKR_PERIOD', 'AKR_START_DATE', 'AKR_END_DATE', 'AKR_DESCRIPTION',\n",
    "       'AKR_ALIGNMENT','AKR_METRICS','AKR_TARGET', 'AKR_LAST_CHECKIN','AKR_PROGRESS', 'AKR_STATUS', 'AKR_LAST_CHECKIN_NOTES','AKR_SCORE',\n",
    "                        'AKR_ALIGN_REF_ID','AO_ID','AO_NAME','AO_TAG','AO_TEAM','AO_CREATOR','AO_OWNER','AO_PERIOD','AO_START_DATE','AO_END_DATE',\n",
    "                        'AO_DESCRIPTION','AO_METRICS','AO_TARGET','AO_LAST_CHECKIN', 'AO_PROGRESS', 'AO_STATUS','AO_LAST_CHECKIN_NOTES', 'AO_SCORE']"
   ]
  },
  {
   "cell_type": "markdown",
   "id": "64c32353",
   "metadata": {},
   "source": [
    "# Departmental OKRs"
   ]
  },
  {
   "cell_type": "code",
   "execution_count": null,
   "id": "416f09b7",
   "metadata": {},
   "outputs": [],
   "source": [
    "#departmental okr\n",
    "dokr = df[df['TEAM'] != 'Paramount Global']\n",
    "dokr"
   ]
  },
  {
   "cell_type": "code",
   "execution_count": null,
   "id": "f3c8ea6a",
   "metadata": {},
   "outputs": [],
   "source": [
    "#Departmental quarterly okrs\n",
    "dokr_q = dokr[dokr['PERIOD'].str.contains('Q')]"
   ]
  },
  {
   "cell_type": "code",
   "execution_count": null,
   "id": "55c98835",
   "metadata": {},
   "outputs": [],
   "source": [
    "df_dep_q = dokr_q.merge(dokr_q,left_on='ALIGN_ID',right_on = 'ID')#x-->kr,y-->o\n",
    "df_dep_q"
   ]
  },
  {
   "cell_type": "code",
   "execution_count": null,
   "id": "a6d48024",
   "metadata": {},
   "outputs": [],
   "source": [
    "df_dep_q.columns"
   ]
  },
  {
   "cell_type": "code",
   "execution_count": null,
   "id": "03a6be89",
   "metadata": {},
   "outputs": [],
   "source": [
    "df_dep_q.columns = [ 'DKR_ID', 'DKR_NAME', 'DKR_TAG', 'DKR_TYPE_NAME', 'DKR_CREATOR',\n",
    "       'DKR_OWNER', 'DKR_PERIOD', 'DKR_START_DATE', 'DKR_END_DATE', 'DKR_DESCRIPTION',\n",
    "       'DKR_ALIGNMENT','DKR_METRICS', 'DKR_TARGET','DKR_OBJECTIVE_TYPE', 'DKR_LAST_CHECKIN','DKR_PROGRESS', 'DKR_STATUS', 'DKR_LAST_CHECKIN_NOTES','DKR_SCORE',\n",
    "       'DKR_ALIGN_REF_ID','DO_ID', 'DO_NAME', 'DO_TAG', 'DO_TYPE_NAME', 'DO_CREATOR',\n",
    "       'DO_OWNER', 'DO_PERIOD', 'DO_START_DATE', 'DO_END_DATE', 'DO_DESCRIPTION',\n",
    "       'DO_ALIGNMENT', 'DO_METRICS','DO_TARGET','DO_OBJECTIVE_TYPE','DO_LAST_CHECKIN','DO_PROGRESS', 'DO_STATUS','DO_LAST_CHECKIN_NOTES', 'DO_SCORE',\n",
    "       'DO_ALIGN_REF_ID']"
   ]
  },
  {
   "cell_type": "code",
   "execution_count": null,
   "id": "48dfb118",
   "metadata": {},
   "outputs": [],
   "source": [
    "##annual department objectives\n",
    "df_dep_a = dokr[dokr['PERIOD'].str.contains('Annual')]\n",
    "df_dep_a"
   ]
  },
  {
   "cell_type": "code",
   "execution_count": null,
   "id": "1d4b290c",
   "metadata": {},
   "outputs": [],
   "source": [
    "df_dep = df_dep_q.merge(df_dep_a,left_on='DO_ALIGN_REF_ID',right_on = 'ID',how ='left')\n",
    "df_dep.columns"
   ]
  },
  {
   "cell_type": "code",
   "execution_count": null,
   "id": "78041685",
   "metadata": {},
   "outputs": [],
   "source": [
    "df_dep = df_dep.rename(columns={'ID':'ADO_ID', 'NAME':'ADO_NAME', 'TAG':'ADO_TAG', 'TEAM':'ADO_TEAM', 'CREATOR':'ADO_CREATOR',\n",
    "       'OWNER':'ADO_OWNER', 'PERIOD':'ADO_PERIOD', 'START_DATE':'ADO_START_DATE', 'END_DATE':'ADO_END_DATE', 'DESCRIPTION':'ADO_DESCRIPTION', \n",
    "       'ALIGNMENT':'ADO_ALIGNMENT','METRICS':'ADO_METRICS', 'Target':'ADO_Target', 'OBJECTIVE_TYPE':'ADO_OBJECTIVE_TYPE', 'LAST_CHECKIN':'ADO_LAST_CHECKIN', 'PROGRESS':'ADO_PROGRESS',\n",
    "       'STATUS':'ADO_STATUS', 'LAST_CHECKIN_NOTES':'ADO_LAST_CHECKIN_NOTES', 'SCORE':'ADO_SCORE', 'ALIGN_ID':'ADO_ALIGN_REF_ID'})   "
   ]
  },
  {
   "cell_type": "code",
   "execution_count": null,
   "id": "9bf83378",
   "metadata": {},
   "outputs": [],
   "source": [
    "#Join annual okrs with departmental annual objective or departmental objective\n",
    "#if there's no departmenal annual o, use quarterly o as the key\n",
    "df_dep['ADO_ID'] = df_dep['ADO_ID'].fillna(0)"
   ]
  },
  {
   "cell_type": "code",
   "execution_count": null,
   "id": "25c96da1",
   "metadata": {},
   "outputs": [],
   "source": [
    "df_dep['Combined_ALIGN_REF_ID'] = np.where(df_dep['ADO_ID'] == 0,df_dep['DO_ALIGN_REF_ID'],df_dep['ADO_ALIGN_REF_ID'])"
   ]
  },
  {
   "cell_type": "code",
   "execution_count": null,
   "id": "ffd4342f",
   "metadata": {},
   "outputs": [],
   "source": [
    "df_report = df_annual.merge(df_dep, left_on='AKR_ID', right_on = 'Combined_ALIGN_REF_ID', how ='outer')\n",
    "df_report['export_date'] = date.today()"
   ]
  },
  {
   "cell_type": "code",
   "execution_count": null,
   "id": "d8b53255",
   "metadata": {},
   "outputs": [],
   "source": [
    "df_report.to_excel('okr_df_report.xlsx',index=False)"
   ]
  }
 ],
 "metadata": {
  "kernelspec": {
   "display_name": "Python 3 (ipykernel)",
   "language": "python",
   "name": "python3"
  },
  "language_info": {
   "codemirror_mode": {
    "name": "ipython",
    "version": 3
   },
   "file_extension": ".py",
   "mimetype": "text/x-python",
   "name": "python",
   "nbconvert_exporter": "python",
   "pygments_lexer": "ipython3",
   "version": "3.11.7"
  }
 },
 "nbformat": 4,
 "nbformat_minor": 5
}
